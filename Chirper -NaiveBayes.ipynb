{
 "cells": [
  {
   "cell_type": "markdown",
   "id": "4b8ea9de",
   "metadata": {},
   "source": [
    "# Naïve Bayes Classifier"
   ]
  },
  {
   "cell_type": "markdown",
   "id": "003f5551",
   "metadata": {},
   "source": [
    "## Import the necessary libraires"
   ]
  },
  {
   "cell_type": "code",
   "execution_count": 1,
   "id": "6bc44a2e",
   "metadata": {},
   "outputs": [],
   "source": [
    "import pandas as pd\n",
    "import glob\n",
    "\n",
    "from sklearn.feature_extraction.text import CountVectorizer\n",
    "from sklearn.model_selection import train_test_split\n",
    "from sklearn.naive_bayes import MultinomialNB,ComplementNB\n",
    "from sklearn.metrics import classification_report, ConfusionMatrixDisplay,confusion_matrix\n",
    "import matplotlib.pyplot as plt\n",
    "import seaborn as sns\n",
    "sns.set()\n",
    "\n",
    "import numpy as np"
   ]
  },
  {
   "cell_type": "markdown",
   "id": "c15f578d",
   "metadata": {},
   "source": [
    "## Read the data"
   ]
  },
  {
   "cell_type": "code",
   "execution_count": 2,
   "id": "5521fb77",
   "metadata": {},
   "outputs": [
    {
     "data": {
      "text/html": [
       "<div>\n",
       "<style scoped>\n",
       "    .dataframe tbody tr th:only-of-type {\n",
       "        vertical-align: middle;\n",
       "    }\n",
       "\n",
       "    .dataframe tbody tr th {\n",
       "        vertical-align: top;\n",
       "    }\n",
       "\n",
       "    .dataframe thead th {\n",
       "        text-align: right;\n",
       "    }\n",
       "</style>\n",
       "<table border=\"1\" class=\"dataframe\">\n",
       "  <thead>\n",
       "    <tr style=\"text-align: right;\">\n",
       "      <th></th>\n",
       "      <th>Target</th>\n",
       "      <th>IDS</th>\n",
       "      <th>Date</th>\n",
       "      <th>Flag</th>\n",
       "      <th>User</th>\n",
       "      <th>Text</th>\n",
       "    </tr>\n",
       "  </thead>\n",
       "  <tbody>\n",
       "    <tr>\n",
       "      <th>0</th>\n",
       "      <td>0</td>\n",
       "      <td>1467810369</td>\n",
       "      <td>Mon Apr 06 22:19:45 PDT 2009</td>\n",
       "      <td>NO_QUERY</td>\n",
       "      <td>_TheSpecialOne_</td>\n",
       "      <td>@switchfoot http://twitpic.com/2y1zl - Awww, t...</td>\n",
       "    </tr>\n",
       "    <tr>\n",
       "      <th>1</th>\n",
       "      <td>0</td>\n",
       "      <td>1467810672</td>\n",
       "      <td>Mon Apr 06 22:19:49 PDT 2009</td>\n",
       "      <td>NO_QUERY</td>\n",
       "      <td>scotthamilton</td>\n",
       "      <td>is upset that he can't update his Facebook by ...</td>\n",
       "    </tr>\n",
       "    <tr>\n",
       "      <th>2</th>\n",
       "      <td>0</td>\n",
       "      <td>1467810917</td>\n",
       "      <td>Mon Apr 06 22:19:53 PDT 2009</td>\n",
       "      <td>NO_QUERY</td>\n",
       "      <td>mattycus</td>\n",
       "      <td>@Kenichan I dived many times for the ball. Man...</td>\n",
       "    </tr>\n",
       "    <tr>\n",
       "      <th>3</th>\n",
       "      <td>0</td>\n",
       "      <td>1467811184</td>\n",
       "      <td>Mon Apr 06 22:19:57 PDT 2009</td>\n",
       "      <td>NO_QUERY</td>\n",
       "      <td>ElleCTF</td>\n",
       "      <td>my whole body feels itchy and like its on fire</td>\n",
       "    </tr>\n",
       "    <tr>\n",
       "      <th>4</th>\n",
       "      <td>0</td>\n",
       "      <td>1467811193</td>\n",
       "      <td>Mon Apr 06 22:19:57 PDT 2009</td>\n",
       "      <td>NO_QUERY</td>\n",
       "      <td>Karoli</td>\n",
       "      <td>@nationwideclass no, it's not behaving at all....</td>\n",
       "    </tr>\n",
       "  </tbody>\n",
       "</table>\n",
       "</div>"
      ],
      "text/plain": [
       "   Target         IDS                          Date      Flag  \\\n",
       "0       0  1467810369  Mon Apr 06 22:19:45 PDT 2009  NO_QUERY   \n",
       "1       0  1467810672  Mon Apr 06 22:19:49 PDT 2009  NO_QUERY   \n",
       "2       0  1467810917  Mon Apr 06 22:19:53 PDT 2009  NO_QUERY   \n",
       "3       0  1467811184  Mon Apr 06 22:19:57 PDT 2009  NO_QUERY   \n",
       "4       0  1467811193  Mon Apr 06 22:19:57 PDT 2009  NO_QUERY   \n",
       "\n",
       "              User                                               Text  \n",
       "0  _TheSpecialOne_  @switchfoot http://twitpic.com/2y1zl - Awww, t...  \n",
       "1    scotthamilton  is upset that he can't update his Facebook by ...  \n",
       "2         mattycus  @Kenichan I dived many times for the ball. Man...  \n",
       "3          ElleCTF    my whole body feels itchy and like its on fire   \n",
       "4           Karoli  @nationwideclass no, it's not behaving at all....  "
      ]
     },
     "execution_count": 2,
     "metadata": {},
     "output_type": "execute_result"
    }
   ],
   "source": [
    "data = pd.read_csv('chirper.csv', encoding = \"ISO-8859-1\")\n",
    "data.head()"
   ]
  },
  {
   "cell_type": "code",
   "execution_count": 3,
   "id": "1d423d13",
   "metadata": {},
   "outputs": [
    {
     "data": {
      "text/plain": [
       "1    9500\n",
       "0     500\n",
       "Name: Target, dtype: int64"
      ]
     },
     "execution_count": 3,
     "metadata": {},
     "output_type": "execute_result"
    }
   ],
   "source": [
    "data['Target'].value_counts()"
   ]
  },
  {
   "cell_type": "markdown",
   "id": "4927caea",
   "metadata": {},
   "source": [
    "## Define the inputs and the target"
   ]
  },
  {
   "cell_type": "markdown",
   "id": "800dd9ce",
   "metadata": {},
   "source": [
    "Identify the **relevant** columns and declare the variables below."
   ]
  },
  {
   "cell_type": "code",
   "execution_count": 3,
   "id": "e843c8bc",
   "metadata": {},
   "outputs": [],
   "source": [
    "inputs =data[\"Text\"]\n",
    "target =data[\"Target\"]"
   ]
  },
  {
   "cell_type": "markdown",
   "id": "46494be2",
   "metadata": {},
   "source": [
    "## Split the data into training and tesitng"
   ]
  },
  {
   "cell_type": "markdown",
   "id": "a4e3400c",
   "metadata": {},
   "source": [
    "* Perform a 70:30 split - 30% of the data should be dedicated to testing.\n",
    "* Set the random state to 365.\n",
    "* Make sure that there is a fair distribution of the representatives from each class."
   ]
  },
  {
   "cell_type": "code",
   "execution_count": 4,
   "id": "b09d5c83",
   "metadata": {},
   "outputs": [],
   "source": [
    "x_train, x_test, y_train, y_test = train_test_split(inputs,target,test_size=0.3,random_state=365,stratify=target)"
   ]
  },
  {
   "cell_type": "markdown",
   "id": "a3643f04",
   "metadata": {},
   "source": [
    "## Transform the training and testing inputs using CountVectorizer"
   ]
  },
  {
   "cell_type": "code",
   "execution_count": 5,
   "id": "c88b166b",
   "metadata": {},
   "outputs": [],
   "source": [
    "vectorizer=CountVectorizer()\n",
    "x_train_transf=vectorizer.fit_transform(x_train)\n",
    "x_test_transf=vectorizer.transform(x_test)"
   ]
  },
  {
   "cell_type": "markdown",
   "id": "6ae0e60b",
   "metadata": {},
   "source": [
    "## Create a Naïve Bayes model"
   ]
  },
  {
   "cell_type": "markdown",
   "id": "fc6e4c6f",
   "metadata": {},
   "source": [
    "* Create an instance of the Naïve Bayes class.\n",
    "* Fit the data to the model."
   ]
  },
  {
   "cell_type": "code",
   "execution_count": 7,
   "id": "db208c80",
   "metadata": {},
   "outputs": [
    {
     "data": {
      "text/plain": [
       "MultinomialNB()"
      ]
     },
     "execution_count": 7,
     "metadata": {},
     "output_type": "execute_result"
    }
   ],
   "source": [
    "clf=MultinomialNB()\n",
    "clf.fit(x_train_transf,y_train)"
   ]
  },
  {
   "cell_type": "markdown",
   "id": "563fd5db",
   "metadata": {},
   "source": [
    "## Make predictions on the test data"
   ]
  },
  {
   "cell_type": "code",
   "execution_count": 8,
   "id": "6fb965b7",
   "metadata": {},
   "outputs": [],
   "source": [
    "y_test_pred=clf.predict(x_test_transf)"
   ]
  },
  {
   "cell_type": "markdown",
   "id": "859d82a0",
   "metadata": {},
   "source": [
    "## Create a confusion matrix"
   ]
  },
  {
   "cell_type": "code",
   "execution_count": 9,
   "id": "eff3cffb",
   "metadata": {},
   "outputs": [
    {
     "data": {
      "text/plain": [
       "<sklearn.metrics._plot.confusion_matrix.ConfusionMatrixDisplay at 0x14800c99e50>"
      ]
     },
     "execution_count": 9,
     "metadata": {},
     "output_type": "execute_result"
    },
    {
     "data": {
      "image/png": "[encoded data removed]",
      "text/plain": [
       "<Figure size 640x480 with 2 Axes>"
      ]
     },
     "metadata": {},
     "output_type": "display_data"
    }
   ],
   "source": [
    "sns.reset_orig()\n",
    "ConfusionMatrixDisplay.from_predictions(y_test,y_test_pred,labels=clf.classes_,cmap=\"magma\")"
   ]
  },
  {
   "cell_type": "markdown",
   "id": "48a27de6",
   "metadata": {},
   "source": [
    "## Print a classification report"
   ]
  },
  {
   "cell_type": "markdown",
   "id": "34204f19",
   "metadata": {},
   "source": [
    "* Fill in the parameters necessary for the classification_report() method.\n",
    "* A parameter **zero_division** has been also added and set to 0."
   ]
  },
  {
   "cell_type": "code",
   "execution_count": 13,
   "id": "f0ffefb7",
   "metadata": {},
   "outputs": [
    {
     "name": "stdout",
     "output_type": "stream",
     "text": [
      "              precision    recall  f1-score   support\n",
      "\n",
      "         caw       0.00      0.00      0.00       150\n",
      "      chirps       0.95      1.00      0.97      2850\n",
      "\n",
      "    accuracy                           0.95      3000\n",
      "   macro avg       0.47      0.50      0.49      3000\n",
      "weighted avg       0.90      0.95      0.93      3000\n",
      "\n"
     ]
    }
   ],
   "source": [
    "print(classification_report(y_test,y_test_pred,target_names=[\"caw\",\"chirps\"],\n",
    "                            zero_division = 0))"
   ]
  },
  {
   "cell_type": "code",
   "execution_count": 6,
   "id": "cf1f8244",
   "metadata": {},
   "outputs": [
    {
     "data": {
      "text/plain": [
       "ComplementNB()"
      ]
     },
     "execution_count": 6,
     "metadata": {},
     "output_type": "execute_result"
    }
   ],
   "source": [
    "clf=ComplementNB()\n",
    "clf.fit(x_train_transf,y_train)"
   ]
  },
  {
   "cell_type": "code",
   "execution_count": 7,
   "id": "faca1954",
   "metadata": {},
   "outputs": [],
   "source": [
    "y_test_pred=clf.predict(x_test_transf)"
   ]
  },
  {
   "cell_type": "code",
   "execution_count": 8,
   "id": "765c30dd",
   "metadata": {},
   "outputs": [
    {
     "data": {
      "text/plain": [
       "<sklearn.metrics._plot.confusion_matrix.ConfusionMatrixDisplay at 0x1d8613a6b20>"
      ]
     },
     "execution_count": 8,
     "metadata": {},
     "output_type": "execute_result"
    },
    {
     "data": {
      "image/png": "[encoded data removed]",
      "text/plain": [
       "<Figure size 640x480 with 2 Axes>"
      ]
     },
     "metadata": {},
     "output_type": "display_data"
    }
   ],
   "source": [
    "sns.reset_orig()\n",
    "ConfusionMatrixDisplay.from_predictions(y_test,y_test_pred,labels=clf.classes_,cmap=\"magma\")"
   ]
  },
  {
   "cell_type": "code",
   "execution_count": 9,
   "id": "757cb3c2",
   "metadata": {},
   "outputs": [
    {
     "name": "stdout",
     "output_type": "stream",
     "text": [
      "              precision    recall  f1-score   support\n",
      "\n",
      "         caw       0.12      0.05      0.07       150\n",
      "      chirps       0.95      0.98      0.97      2850\n",
      "\n",
      "    accuracy                           0.94      3000\n",
      "   macro avg       0.54      0.51      0.52      3000\n",
      "weighted avg       0.91      0.94      0.92      3000\n",
      "\n"
     ]
    }
   ],
   "source": [
    "print(classification_report(y_test,y_test_pred,target_names=[\"caw\",\"chirps\"],\n",
    "                            zero_division = 0))"
   ]
  },
  {
   "cell_type": "code",
   "execution_count": null,
   "id": "28740a97",
   "metadata": {},
   "outputs": [],
   "source": []
  }
 ],
 "metadata": {
  "kernelspec": {
   "display_name": "Python 3 (ipykernel)",
   "language": "python",
   "name": "python3"
  },
  "language_info": {
   "codemirror_mode": {
    "name": "ipython",
    "version": 3
   },
   "file_extension": ".py",
   "mimetype": "text/x-python",
   "name": "python",
   "nbconvert_exporter": "python",
   "pygments_lexer": "ipython3",
   "version": "3.9.13"
  }
 },
 "nbformat": 4,
 "nbformat_minor": 5
}
