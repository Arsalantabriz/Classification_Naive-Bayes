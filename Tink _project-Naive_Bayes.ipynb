{
 "cells": [
  {
   "cell_type": "markdown",
   "id": "965c4d63",
   "metadata": {},
   "source": [
    "# Naïve Bayes Classifier"
   ]
  },
  {
   "cell_type": "markdown",
   "id": "90fc5474",
   "metadata": {},
   "source": [
    "## Import the necessary libraires"
   ]
  },
  {
   "cell_type": "code",
   "execution_count": 1,
   "id": "4dcf3945",
   "metadata": {},
   "outputs": [],
   "source": [
    "import pandas as pd\n",
    "import glob\n",
    "\n",
    "from sklearn.feature_extraction.text import CountVectorizer\n",
    "from sklearn.model_selection import train_test_split\n",
    "from sklearn.naive_bayes import MultinomialNB,ComplementNB\n",
    "from sklearn.metrics import classification_report, ConfusionMatrixDisplay,confusion_matrix\n",
    "\n",
    "import matplotlib.pyplot as plt\n",
    "import seaborn as sns\n",
    "sns.set()\n",
    "\n",
    "import numpy as np"
   ]
  },
  {
   "cell_type": "markdown",
   "id": "3c6fdf18",
   "metadata": {},
   "source": [
    "## Read the data"
   ]
  },
  {
   "cell_type": "code",
   "execution_count": 2,
   "id": "89802b69",
   "metadata": {},
   "outputs": [
    {
     "data": {
      "text/html": [
       "<div>\n",
       "<style scoped>\n",
       "    .dataframe tbody tr th:only-of-type {\n",
       "        vertical-align: middle;\n",
       "    }\n",
       "\n",
       "    .dataframe tbody tr th {\n",
       "        vertical-align: top;\n",
       "    }\n",
       "\n",
       "    .dataframe thead th {\n",
       "        text-align: right;\n",
       "    }\n",
       "</style>\n",
       "<table border=\"1\" class=\"dataframe\">\n",
       "  <thead>\n",
       "    <tr style=\"text-align: right;\">\n",
       "      <th></th>\n",
       "      <th>CLASS</th>\n",
       "      <th>CONTENT</th>\n",
       "    </tr>\n",
       "  </thead>\n",
       "  <tbody>\n",
       "    <tr>\n",
       "      <th>0</th>\n",
       "      <td>INFJ</td>\n",
       "      <td>'http://www.youtube.com/watch?v=qsXHcwe3krw|||...</td>\n",
       "    </tr>\n",
       "    <tr>\n",
       "      <th>1</th>\n",
       "      <td>INTP</td>\n",
       "      <td>'Good one  _____   https://www.youtube.com/wat...</td>\n",
       "    </tr>\n",
       "    <tr>\n",
       "      <th>2</th>\n",
       "      <td>INTJ</td>\n",
       "      <td>'Dear INTP,   I enjoyed our conversation the o...</td>\n",
       "    </tr>\n",
       "    <tr>\n",
       "      <th>3</th>\n",
       "      <td>INTJ</td>\n",
       "      <td>'18/37 @.@|||Science  is not perfect. No scien...</td>\n",
       "    </tr>\n",
       "    <tr>\n",
       "      <th>4</th>\n",
       "      <td>INFJ</td>\n",
       "      <td>'No, I can't draw on my own nails (haha). Thos...</td>\n",
       "    </tr>\n",
       "  </tbody>\n",
       "</table>\n",
       "</div>"
      ],
      "text/plain": [
       "  CLASS                                            CONTENT\n",
       "0  INFJ  'http://www.youtube.com/watch?v=qsXHcwe3krw|||...\n",
       "1  INTP  'Good one  _____   https://www.youtube.com/wat...\n",
       "2  INTJ  'Dear INTP,   I enjoyed our conversation the o...\n",
       "3  INTJ  '18/37 @.@|||Science  is not perfect. No scien...\n",
       "4  INFJ  'No, I can't draw on my own nails (haha). Thos..."
      ]
     },
     "execution_count": 2,
     "metadata": {},
     "output_type": "execute_result"
    }
   ],
   "source": [
    "data = pd.read_csv('tink.csv')\n",
    "data.head()"
   ]
  },
  {
   "cell_type": "code",
   "execution_count": 3,
   "id": "5e783832",
   "metadata": {},
   "outputs": [
    {
     "data": {
      "text/plain": [
       "INFP    1832\n",
       "INFJ    1470\n",
       "INTP    1304\n",
       "INTJ    1091\n",
       "Name: CLASS, dtype: int64"
      ]
     },
     "execution_count": 3,
     "metadata": {},
     "output_type": "execute_result"
    }
   ],
   "source": [
    "data['CLASS'].value_counts()"
   ]
  },
  {
   "cell_type": "markdown",
   "id": "89bbb677",
   "metadata": {},
   "source": [
    "## Define the inputs and the target"
   ]
  },
  {
   "cell_type": "code",
   "execution_count": 4,
   "id": "95904af8",
   "metadata": {},
   "outputs": [],
   "source": [
    "inputs = data[\"CONTENT\"]\n",
    "target = data[\"CLASS\"]"
   ]
  },
  {
   "cell_type": "markdown",
   "id": "41735d4f",
   "metadata": {},
   "source": [
    "## Transform the text from the data using CountVectorizer"
   ]
  },
  {
   "cell_type": "code",
   "execution_count": 15,
   "id": "6c45a568",
   "metadata": {},
   "outputs": [],
   "source": [
    "vectorizer=CountVectorizer()\n",
    "inputs_transf=vectorizer.fit_transform(inputs)\n"
   ]
  },
  {
   "cell_type": "markdown",
   "id": "e98491be",
   "metadata": {},
   "source": [
    "## Split the transformed data into training and tesitng"
   ]
  },
  {
   "cell_type": "markdown",
   "id": "34ad0fac",
   "metadata": {},
   "source": [
    "* Perform an 80:20 split - 20% of the data should be dedicated to testing.\n",
    "* Set the random state to 365.\n",
    "* Make sure that there is a fair distribution of the representatives from each class."
   ]
  },
  {
   "cell_type": "code",
   "execution_count": 16,
   "id": "51c1eb78",
   "metadata": {},
   "outputs": [],
   "source": [
    "x_train, x_test, y_train, y_test = train_test_split(inputs_transf,target,test_size=0.2,random_state=365,stratify=target)"
   ]
  },
  {
   "cell_type": "markdown",
   "id": "20316fa9",
   "metadata": {},
   "source": [
    "## Create a Naïve Bayes model"
   ]
  },
  {
   "cell_type": "markdown",
   "id": "c77acee9",
   "metadata": {},
   "source": [
    "* Create an instance of the Naïve Bayes class.\n",
    "* Fit the data to the model."
   ]
  },
  {
   "cell_type": "code",
   "execution_count": 17,
   "id": "98a30b32",
   "metadata": {},
   "outputs": [
    {
     "data": {
      "text/plain": [
       "MultinomialNB()"
      ]
     },
     "execution_count": 17,
     "metadata": {},
     "output_type": "execute_result"
    }
   ],
   "source": [
    "clf=MultinomialNB()\n",
    "clf.fit(x_train,y_train)"
   ]
  },
  {
   "cell_type": "markdown",
   "id": "db24984f",
   "metadata": {},
   "source": [
    "## Make predictions on the test data"
   ]
  },
  {
   "cell_type": "code",
   "execution_count": 18,
   "id": "fd7f2e25",
   "metadata": {},
   "outputs": [],
   "source": [
    "y_test_pred=clf.predict(x_test)"
   ]
  },
  {
   "cell_type": "markdown",
   "id": "d2da990b",
   "metadata": {},
   "source": [
    "## Create a confusion matrix"
   ]
  },
  {
   "cell_type": "code",
   "execution_count": 19,
   "id": "8bc74661",
   "metadata": {},
   "outputs": [
    {
     "data": {
      "text/plain": [
       "<sklearn.metrics._plot.confusion_matrix.ConfusionMatrixDisplay at 0x1a72c129250>"
      ]
     },
     "execution_count": 19,
     "metadata": {},
     "output_type": "execute_result"
    },
    {
     "data": {
      "image/png": "[encoded data removed]",
      "text/plain": [
       "<Figure size 640x480 with 2 Axes>"
      ]
     },
     "metadata": {},
     "output_type": "display_data"
    }
   ],
   "source": [
    "sns.reset_orig()\n",
    "ConfusionMatrixDisplay.from_predictions(y_test,y_test_pred,labels=clf.classes_,cmap=\"magma\")"
   ]
  },
  {
   "cell_type": "markdown",
   "id": "3c1aeece",
   "metadata": {},
   "source": [
    "## Print a classification report"
   ]
  },
  {
   "cell_type": "code",
   "execution_count": 20,
   "id": "402cd65f",
   "metadata": {},
   "outputs": [
    {
     "name": "stdout",
     "output_type": "stream",
     "text": [
      "              precision    recall  f1-score   support\n",
      "\n",
      "        INFJ       0.59      0.56      0.58       294\n",
      "        INFP       0.55      0.83      0.66       367\n",
      "        INTJ       0.81      0.26      0.39       218\n",
      "        INTP       0.66      0.60      0.63       261\n",
      "\n",
      "    accuracy                           0.60      1140\n",
      "   macro avg       0.65      0.56      0.56      1140\n",
      "weighted avg       0.63      0.60      0.58      1140\n",
      "\n"
     ]
    }
   ],
   "source": [
    "print(classification_report(y_test,y_test_pred))"
   ]
  },
  {
   "cell_type": "code",
   "execution_count": null,
   "id": "692694b2",
   "metadata": {},
   "outputs": [],
   "source": []
  }
 ],
 "metadata": {
  "kernelspec": {
   "display_name": "Python 3 (ipykernel)",
   "language": "python",
   "name": "python3"
  },
  "language_info": {
   "codemirror_mode": {
    "name": "ipython",
    "version": 3
   },
   "file_extension": ".py",
   "mimetype": "text/x-python",
   "name": "python",
   "nbconvert_exporter": "python",
   "pygments_lexer": "ipython3",
   "version": "3.9.13"
  }
 },
 "nbformat": 4,
 "nbformat_minor": 5
}
